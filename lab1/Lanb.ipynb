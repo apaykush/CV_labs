{
  "nbformat": 4,
  "nbformat_minor": 0,
  "metadata": {
    "colab": {
      "name": "Computer Vision Lab1.ipynb",
      "provenance": [],
      "collapsed_sections": []
    },
    "kernelspec": {
      "name": "python3",
      "display_name": "Python 3"
    },
    "language_info": {
      "name": "python"
    }
  },
  "cells": [
    {
      "cell_type": "code",
      "execution_count": 95,
      "metadata": {
        "id": "MQCtBSbVhgAo"
      },
      "outputs": [],
      "source": [
        "import cv2 \n",
        "import numpy as np\n",
        "import random as rand"
      ]
    },
    {
      "cell_type": "code",
      "source": [
        "def get_number_of_noised_pixels(rows,cols, intensity):\n",
        "    number_of_pixels = rows*cols\n",
        "\n",
        "    if intensity is \"low\":\n",
        "      number_of_pixels //= rand.randint(50, 100)\n",
        "    elif intensity is \"medium\":\n",
        "      number_of_pixels //= rand.randint(15,50)\n",
        "    elif intensity is \"high\":\n",
        "      number_of_pixels //= rand.randint(5,15)\n",
        "    \n",
        "    return number_of_pixels\n",
        "    \n",
        "\n",
        "\n",
        "def add_noise(img, intensity=\"medium\"):\n",
        "    rows , cols = img.shape\n",
        "\n",
        "    number_of_pixels = get_number_of_noised_pixels(rows,cols,intensity)\n",
        "\n",
        "    for i in range(number_of_pixels):\n",
        "        y_coord=rand.randint(0, rows - 1)\n",
        "        \n",
        "        x_coord=rand.randint(0, cols - 1)\n",
        "\n",
        "        img[y_coord][x_coord] = 255\n",
        "         \n",
        "    number_of_pixels = get_number_of_noised_pixels(rows,cols,intensity)\n",
        "    for i in range(number_of_pixels):\n",
        "        y_coord=rand.randint(0, rows - 1)\n",
        "         \n",
        "        x_coord=rand.randint(0, cols - 1)\n",
        "         \n",
        "        img[y_coord][x_coord] = 0\n",
        "         \n",
        "    return img"
      ],
      "metadata": {
        "id": "7ak-Rozwv5Vj"
      },
      "execution_count": 96,
      "outputs": []
    },
    {
      "cell_type": "code",
      "source": [
        ""
      ],
      "metadata": {
        "id": "zFf0JxeRn_pH"
      },
      "execution_count": 96,
      "outputs": []
    },
    {
      "cell_type": "code",
      "source": [
        "def median_filter(img, kernel_size):\n",
        "    rows, cols = img.shape\n",
        "\n",
        "    kernel_elements = np.zeros(kernel_size**2)\n",
        "\n",
        "    indexer = kernel_size // 2\n",
        "\n",
        "    img_filtered = np.zeros((rows,cols))\n",
        "    for row in range(rows):\n",
        "        for col in range(cols):\n",
        "            for i in range(kernel_size):\n",
        "                curr_process_row = row - indexer + i\n",
        "                if curr_process_row < 0 or curr_process_row > rows - 1:\n",
        "                    for j in range(kernel_size):\n",
        "                        kernel_elements[i * kernel_size + j] = 0\n",
        "                else:\n",
        "\n",
        "                    for j in range(kernel_size):\n",
        "                      curr_process_col = col - indexer + j\n",
        "                      if curr_process_col < 0 or curr_process_col > cols-1:\n",
        "                          kernel_elements[i * kernel_size + j] = 0\n",
        "                      else:\n",
        "                          kernel_elements[i * kernel_size + j] = img[curr_process_row][curr_process_col]\n",
        "\n",
        "            img_filtered[row][col] = np.sort(kernel_elements)[(kernel_size**2) // 2]\n",
        "    return img_filtered\n"
      ],
      "metadata": {
        "id": "1b-4Volw9yyj"
      },
      "execution_count": 97,
      "outputs": []
    },
    {
      "cell_type": "code",
      "source": [
        "img_names = ['High-detailized-image', 'Low-detailized-image', 'Cat-high-contrast', 'Cat-low-contrast']\n",
        "kernel_sizes = [3,5,7,9]\n",
        "\n",
        "for img_name in img_names:\n",
        "    img = cv2.imread(f'{img_name}.jpg',cv2.IMREAD_GRAYSCALE)\n",
        "    if img is None:\n",
        "        print(\"Error happed while reading the image\")\n",
        "        continue\n",
        "    noised_img = add_noise(img, intensity=\"medium\")\n",
        "    cv2.imwrite(f'{img_name}-noised.jpg', noised_img)\n",
        "    for kernel_size in kernel_sizes:\n",
        "        cv2.imwrite(f'{img_name}-median-filtered-with-kernel-{kernel_size}.jpg', median_filter(noised_img, kernel_size))\n",
        "\n"
      ],
      "metadata": {
        "id": "ykO-9R_NoImA"
      },
      "execution_count": 104,
      "outputs": []
    },
    {
      "cell_type": "code",
      "source": [
        ""
      ],
      "metadata": {
        "id": "8_JEe9JN1Y6N"
      },
      "execution_count": 46,
      "outputs": []
    }
  ]
}